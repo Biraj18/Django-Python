{
 "cells": [
  {
   "cell_type": "markdown",
   "metadata": {},
   "source": [
    "# Introduction to python"
   ]
  },
  {
   "cell_type": "raw",
   "metadata": {},
   "source": [
    "\"Everything in python is an object\""
   ]
  },
  {
   "cell_type": "raw",
   "metadata": {},
   "source": [
    "Operator == is"
   ]
  },
  {
   "cell_type": "raw",
   "metadata": {},
   "source": [
    "dataset list,tuple,set and dictionary is important"
   ]
  },
  {
   "cell_type": "raw",
   "metadata": {},
   "source": [
    "tuple ra list ko main difference tuple ma ek plta data store garye paxi feri add garna mildaina jastai ki (2,3) halerw \n",
    "tuple define garyeu vani paxi 4 thapna mildaina "
   ]
  },
  {
   "cell_type": "raw",
   "metadata": {},
   "source": [
    "set vaneko ko chai same sano ma padeko jastai. dictionary  chai key ra value ko collection"
   ]
  },
  {
   "cell_type": "code",
   "execution_count": null,
   "metadata": {},
   "outputs": [],
   "source": []
  }
 ],
 "metadata": {
  "kernelspec": {
   "display_name": "Python 3",
   "language": "python",
   "name": "python3"
  },
  "language_info": {
   "codemirror_mode": {
    "name": "ipython",
    "version": 3
   },
   "file_extension": ".py",
   "mimetype": "text/x-python",
   "name": "python",
   "nbconvert_exporter": "python",
   "pygments_lexer": "ipython3",
   "version": "3.8.3"
  }
 },
 "nbformat": 4,
 "nbformat_minor": 4
}
