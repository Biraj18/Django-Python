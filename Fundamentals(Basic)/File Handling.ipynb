{
 "cells": [
  {
   "cell_type": "code",
   "execution_count": 1,
   "metadata": {},
   "outputs": [
    {
     "name": "stdout",
     "output_type": "stream",
     "text": [
      " Volume in drive C is OS\n",
      " Volume Serial Number is 2C7E-7E9F\n",
      "\n",
      " Directory of C:\\Users\\User\\Downloads\\Python in broadway\\Fundamentals(Basic)\n",
      "\n",
      "08/10/2021  08:08 AM    <DIR>          .\n",
      "08/10/2021  08:08 AM    <DIR>          ..\n",
      "08/10/2021  08:06 AM    <DIR>          .ipynb_checkpoints\n",
      "08/06/2021  07:43 AM             7,625 Comprehension.ipynb\n",
      "08/09/2021  08:04 AM            87,838 decorator function.ipynb\n",
      "08/03/2021  07:35 AM            15,064 Dictionary.ipynb\n",
      "08/10/2021  08:08 AM               555 File Handling.ipynb\n",
      "07/26/2021  08:28 AM             1,420 First class.ipynb\n",
      "07/29/2021  08:28 AM             6,144 For loop(Noob level).ipynb\n",
      "07/27/2021  08:04 AM            10,985 list.ipynb\n",
      "08/06/2021  08:12 AM            10,801 map reduce filter.ipynb\n",
      "08/10/2021  08:05 AM             7,318 OOP.ipynb\n",
      "08/09/2021  09:20 PM            21,549 practise.ipynb\n",
      "08/02/2021  07:09 AM           102,322 rename file.ipynb\n",
      "08/02/2021  07:33 AM             8,937 set.ipynb\n",
      "07/29/2021  08:58 AM             7,168 string manupulation.ipynb\n",
      "07/28/2021  08:14 AM             8,493 Tuple slicing indexing and steping.ipynb\n",
      "08/01/2021  07:38 AM                72 Untitled.ipynb\n",
      "              15 File(s)        296,291 bytes\n",
      "               3 Dir(s)  12,055,662,592 bytes free\n"
     ]
    }
   ],
   "source": [
    "ls\n"
   ]
  },
  {
   "cell_type": "code",
   "execution_count": 2,
   "metadata": {},
   "outputs": [],
   "source": [
    "#file handling ma 3 ota operation hunxa read write append"
   ]
  },
  {
   "cell_type": "raw",
   "metadata": {},
   "source": [
    "there are two types of file:\n",
    "    which is text file and binary file"
   ]
  },
  {
   "cell_type": "code",
   "execution_count": 4,
   "metadata": {},
   "outputs": [
    {
     "ename": "FileNotFoundError",
     "evalue": "[Errno 2] No such file or directory: 'text.txt'",
     "output_type": "error",
     "traceback": [
      "\u001b[1;31m---------------------------------------------------------------------------\u001b[0m",
      "\u001b[1;31mFileNotFoundError\u001b[0m                         Traceback (most recent call last)",
      "\u001b[1;32m<ipython-input-4-0a7ff7fc7de4>\u001b[0m in \u001b[0;36m<module>\u001b[1;34m\u001b[0m\n\u001b[1;32m----> 1\u001b[1;33m \u001b[0mfile\u001b[0m\u001b[1;33m=\u001b[0m\u001b[0mopen\u001b[0m\u001b[1;33m(\u001b[0m\u001b[1;34m'text.txt'\u001b[0m\u001b[1;33m,\u001b[0m\u001b[1;34m'r'\u001b[0m\u001b[1;33m)\u001b[0m \u001b[1;31m#by default read mode ma khulxa yo , 'r' lekhi rahanu pardaina\u001b[0m\u001b[1;33m\u001b[0m\u001b[1;33m\u001b[0m\u001b[0m\n\u001b[0m",
      "\u001b[1;31mFileNotFoundError\u001b[0m: [Errno 2] No such file or directory: 'text.txt'"
     ]
    }
   ],
   "source": [
    "file=open('text.txt','r') #by default read mode ma khulxa yo , 'r' lekhi rahanu pardaina"
   ]
  },
  {
   "cell_type": "code",
   "execution_count": 5,
   "metadata": {},
   "outputs": [],
   "source": [
    "#file banaunu paryo xaina vani"
   ]
  },
  {
   "cell_type": "code",
   "execution_count": 6,
   "metadata": {},
   "outputs": [],
   "source": [
    "file=open('text.txt','w')"
   ]
  },
  {
   "cell_type": "code",
   "execution_count": 7,
   "metadata": {},
   "outputs": [
    {
     "data": {
      "text/plain": [
       "12"
      ]
     },
     "execution_count": 7,
     "metadata": {},
     "output_type": "execute_result"
    }
   ],
   "source": [
    "file.write('1. line one\\n')"
   ]
  },
  {
   "cell_type": "code",
   "execution_count": 8,
   "metadata": {},
   "outputs": [],
   "source": [
    "file.close()"
   ]
  },
  {
   "cell_type": "code",
   "execution_count": 12,
   "metadata": {},
   "outputs": [],
   "source": [
    "file=open('text.txt','r')"
   ]
  },
  {
   "cell_type": "code",
   "execution_count": 13,
   "metadata": {},
   "outputs": [
    {
     "data": {
      "text/plain": [
       "'1. line one\\n'"
      ]
     },
     "execution_count": 13,
     "metadata": {},
     "output_type": "execute_result"
    }
   ],
   "source": [
    "file.read()"
   ]
  },
  {
   "cell_type": "code",
   "execution_count": 14,
   "metadata": {},
   "outputs": [
    {
     "name": "stdout",
     "output_type": "stream",
     "text": [
      "\n"
     ]
    }
   ],
   "source": [
    "print(file.read())"
   ]
  },
  {
   "cell_type": "code",
   "execution_count": 15,
   "metadata": {},
   "outputs": [
    {
     "data": {
      "text/plain": [
       "13"
      ]
     },
     "execution_count": 15,
     "metadata": {},
     "output_type": "execute_result"
    }
   ],
   "source": [
    "#eof pugyo ki nai vanerw sodeko\n",
    "file.tell()"
   ]
  },
  {
   "cell_type": "code",
   "execution_count": 16,
   "metadata": {},
   "outputs": [
    {
     "data": {
      "text/plain": [
       "0"
      ]
     },
     "execution_count": 16,
     "metadata": {},
     "output_type": "execute_result"
    }
   ],
   "source": [
    "#back to 0th index ma leyrw aako\n",
    "file.seek(0)"
   ]
  },
  {
   "cell_type": "code",
   "execution_count": 17,
   "metadata": {},
   "outputs": [
    {
     "name": "stdout",
     "output_type": "stream",
     "text": [
      "1. line one\n",
      "\n"
     ]
    }
   ],
   "source": [
    "print(file.read())"
   ]
  },
  {
   "cell_type": "code",
   "execution_count": 18,
   "metadata": {},
   "outputs": [],
   "source": [
    "file.close()"
   ]
  },
  {
   "cell_type": "code",
   "execution_count": 19,
   "metadata": {},
   "outputs": [],
   "source": [
    "file=open('text.txt','a')"
   ]
  },
  {
   "cell_type": "code",
   "execution_count": 20,
   "metadata": {},
   "outputs": [
    {
     "data": {
      "text/plain": [
       "15"
      ]
     },
     "execution_count": 20,
     "metadata": {},
     "output_type": "execute_result"
    }
   ],
   "source": [
    "file.write(\"2. second line\\n\")"
   ]
  },
  {
   "cell_type": "code",
   "execution_count": 21,
   "metadata": {},
   "outputs": [],
   "source": [
    "file.flush() #save garney flush ley ho"
   ]
  },
  {
   "cell_type": "code",
   "execution_count": 22,
   "metadata": {},
   "outputs": [],
   "source": [
    "#multilines print garna write lines use hunxa"
   ]
  },
  {
   "cell_type": "code",
   "execution_count": 23,
   "metadata": {},
   "outputs": [],
   "source": [
    "file.close()"
   ]
  },
  {
   "cell_type": "code",
   "execution_count": 24,
   "metadata": {},
   "outputs": [],
   "source": [
    "#context manager\n",
    "with open('text.txt','a') as file:\n",
    "    file.write('\\n this is a line')\n",
    "    "
   ]
  },
  {
   "cell_type": "code",
   "execution_count": 6,
   "metadata": {},
   "outputs": [],
   "source": [
    "file=open('text.txt','r')\n",
    "line=file.readline()\n",
    "\n",
    "with open('python.txt','w') as file1:\n",
    "    while line:\n",
    "        if 'python' in str(line):\n",
    "            file1.write(line)\n",
    "        line =file.readline()\n",
    "file.close()\n"
   ]
  },
  {
   "cell_type": "code",
   "execution_count": 7,
   "metadata": {},
   "outputs": [
    {
     "name": "stdout",
     "output_type": "stream",
     "text": [
      "Enter a word:python\n"
     ]
    }
   ],
   "source": [
    "file=open('text.txt','r')\n",
    "line=file.readline()\n",
    "word=input('Enter a word:')\n",
    "with open('python1.txt','w') as file1:\n",
    "    while line:\n",
    "        if word in str(line):\n",
    "            file1.write(line)\n",
    "        line =file.readline()\n",
    "file.close()"
   ]
  },
  {
   "cell_type": "markdown",
   "metadata": {},
   "source": [
    "# CSV FILE"
   ]
  },
  {
   "cell_type": "code",
   "execution_count": 1,
   "metadata": {},
   "outputs": [],
   "source": [
    "import csv"
   ]
  },
  {
   "cell_type": "code",
   "execution_count": 2,
   "metadata": {},
   "outputs": [],
   "source": [
    "columns=['collage''university','estdt']"
   ]
  },
  {
   "cell_type": "code",
   "execution_count": 6,
   "metadata": {},
   "outputs": [],
   "source": [
    "#rows=[['herald','AbC','1990'],['Thapathali','TU','1910']]\n",
    "rows=['herald','AbC','1990'],['Thapathali','TU','1910']\n",
    "with open('college.csv','w') as file:\n",
    "    writer=csv.writer(file)\n",
    "    writer.writerow(columns)\n",
    "    for row in rows:\n",
    "        writer.writerow(row)\n",
    "    "
   ]
  },
  {
   "cell_type": "code",
   "execution_count": 15,
   "metadata": {},
   "outputs": [],
   "source": [
    "with open('college1.csv','w',newline='') as file: #extraline lai hatauna ('college1.csv','w',newline='') garda hunxa\n",
    "    writer=csv.writer(file)\n",
    "    writer.writerow(columns)\n",
    "    writer.writerows(rows)    #writerows ley purai row ekaiplta write gardinxa"
   ]
  },
  {
   "cell_type": "code",
   "execution_count": 16,
   "metadata": {},
   "outputs": [
    {
     "name": "stdout",
     "output_type": "stream",
     "text": [
      "['collageuniversity', 'estdt']\n",
      "['herald', 'AbC', '1990']\n",
      "['Thapathali', 'TU', '1910']\n"
     ]
    }
   ],
   "source": [
    "with open('college1.csv','r',newline='') as file:\n",
    "    reader=csv.reader(file)\n",
    "    for row in reader:\n",
    "        print(row)"
   ]
  },
  {
   "cell_type": "code",
   "execution_count": 24,
   "metadata": {},
   "outputs": [
    {
     "data": {
      "text/plain": [
       "[{'collage': 'herald', 'university': 'AbC', 'estdt': '1990'},\n",
       " {'collage': 'Thapathali', 'university': 'TU', 'estdt': '1910'}]"
      ]
     },
     "execution_count": 24,
     "metadata": {},
     "output_type": "execute_result"
    }
   ],
   "source": [
    "columns=['collage','university','estdt']\n",
    "rows=['herald','AbC','1990'],['Thapathali','TU','1910']\n",
    "[dict(zip(columns,row)) for row in rows]"
   ]
  },
  {
   "cell_type": "code",
   "execution_count": 27,
   "metadata": {},
   "outputs": [],
   "source": [
    "rows_dict=[dict(zip(columns,row)) for row in rows]\n",
    "with open('college_dict.csv','w',newline='') as file:\n",
    "    writer=csv.DictWriter(file,fieldnames=columns)\n",
    "    writer.writeheader()\n",
    "    writer.writerows(rows_dict)"
   ]
  },
  {
   "cell_type": "code",
   "execution_count": 28,
   "metadata": {},
   "outputs": [
    {
     "name": "stdout",
     "output_type": "stream",
     "text": [
      "['collage', 'university', 'estdt']\n",
      "['herald', 'AbC', '1990']\n",
      "['Thapathali', 'TU', '1910']\n"
     ]
    }
   ],
   "source": [
    "with open('college_dict.csv','r',newline='') as file:\n",
    "    reader=csv.reader(file)\n",
    "    for row in reader:\n",
    "        print(row)"
   ]
  },
  {
   "cell_type": "code",
   "execution_count": 32,
   "metadata": {},
   "outputs": [
    {
     "name": "stdout",
     "output_type": "stream",
     "text": [
      "{'collage': 'herald', 'university': 'AbC', 'estdt': '1990'}\n",
      "{'collage': 'Thapathali', 'university': 'TU', 'estdt': '1910'}\n"
     ]
    }
   ],
   "source": [
    "with open('college_dict.csv','r',newline='') as file:\n",
    "    reader=csv.DictReader(file)\n",
    "    for row in reader:\n",
    "        print(row)"
   ]
  },
  {
   "cell_type": "code",
   "execution_count": null,
   "metadata": {},
   "outputs": [],
   "source": []
  }
 ],
 "metadata": {
  "kernelspec": {
   "display_name": "Python 3",
   "language": "python",
   "name": "python3"
  },
  "language_info": {
   "codemirror_mode": {
    "name": "ipython",
    "version": 3
   },
   "file_extension": ".py",
   "mimetype": "text/x-python",
   "name": "python",
   "nbconvert_exporter": "python",
   "pygments_lexer": "ipython3",
   "version": "3.8.3"
  }
 },
 "nbformat": 4,
 "nbformat_minor": 4
}
